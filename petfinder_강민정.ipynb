{
 "cells": [
  {
   "cell_type": "markdown",
   "id": "2c803d61",
   "metadata": {
    "papermill": {
     "duration": 0.008752,
     "end_time": "2022-12-10T17:10:24.610930",
     "exception": false,
     "start_time": "2022-12-10T17:10:24.602178",
     "status": "completed"
    },
    "tags": []
   },
   "source": [
    "# IMPORT"
   ]
  },
  {
   "cell_type": "code",
   "execution_count": 1,
   "id": "54095606",
   "metadata": {
    "_cell_guid": "b1076dfc-b9ad-4769-8c92-a6c4dae69d19",
    "_uuid": "8f2839f25d086af736a60e9eeb907d3b93b6e0e5",
    "execution": {
     "iopub.execute_input": "2022-12-10T17:10:24.630283Z",
     "iopub.status.busy": "2022-12-10T17:10:24.629550Z",
     "iopub.status.idle": "2022-12-10T17:10:30.823839Z",
     "shell.execute_reply": "2022-12-10T17:10:30.822853Z"
    },
    "papermill": {
     "duration": 6.207804,
     "end_time": "2022-12-10T17:10:30.826340",
     "exception": false,
     "start_time": "2022-12-10T17:10:24.618536",
     "status": "completed"
    },
    "tags": []
   },
   "outputs": [],
   "source": [
    "#packages\n",
    "#basics\n",
    "import os\n",
    "import random\n",
    "import numpy as np\n",
    "import pandas as pd\n",
    "import ssl\n",
    "ssl._create_default_https_context = ssl._create_unverified_context\n",
    "\n",
    "#images\n",
    "import cv2\n",
    "\n",
    "#modeling\n",
    "from sklearn.model_selection import train_test_split\n",
    "import tensorflow as tf\n",
    "from tensorflow import keras\n",
    "from tensorflow.keras import layers\n",
    "from tensorflow.keras.regularizers import l2\n",
    "from tensorflow.keras.preprocessing.image import ImageDataGenerator\n",
    "from tensorflow.python.client import device_lib\n",
    "from tensorflow.keras.applications import EfficientNetB0\n",
    "\n",
    "#visualizations\n",
    "import seaborn as sns\n",
    "import matplotlib.pyplot as plt"
   ]
  },
  {
   "cell_type": "markdown",
   "id": "2525a4e4",
   "metadata": {
    "papermill": {
     "duration": 0.007215,
     "end_time": "2022-12-10T17:10:30.841591",
     "exception": false,
     "start_time": "2022-12-10T17:10:30.834376",
     "status": "completed"
    },
    "tags": []
   },
   "source": [
    "# Data Load & Data read"
   ]
  },
  {
   "cell_type": "code",
   "execution_count": 2,
   "id": "58305a9d",
   "metadata": {
    "execution": {
     "iopub.execute_input": "2022-12-10T17:10:30.858071Z",
     "iopub.status.busy": "2022-12-10T17:10:30.857561Z",
     "iopub.status.idle": "2022-12-10T17:10:30.901318Z",
     "shell.execute_reply": "2022-12-10T17:10:30.900499Z"
    },
    "papermill": {
     "duration": 0.054354,
     "end_time": "2022-12-10T17:10:30.903253",
     "exception": false,
     "start_time": "2022-12-10T17:10:30.848899",
     "status": "completed"
    },
    "tags": []
   },
   "outputs": [],
   "source": [
    "# 데이터 불러오기\n",
    "train = pd.read_csv('../input/petfinder-pawpularity-score/train.csv')\n",
    "test = pd.read_csv('../input/petfinder-pawpularity-score/test.csv')"
   ]
  },
  {
   "cell_type": "code",
   "execution_count": 3,
   "id": "4057ae0b",
   "metadata": {
    "execution": {
     "iopub.execute_input": "2022-12-10T17:10:30.920091Z",
     "iopub.status.busy": "2022-12-10T17:10:30.919249Z",
     "iopub.status.idle": "2022-12-10T17:10:30.946787Z",
     "shell.execute_reply": "2022-12-10T17:10:30.945770Z"
    },
    "papermill": {
     "duration": 0.039907,
     "end_time": "2022-12-10T17:10:30.950639",
     "exception": false,
     "start_time": "2022-12-10T17:10:30.910732",
     "status": "completed"
    },
    "tags": []
   },
   "outputs": [
    {
     "data": {
      "text/html": [
       "<div>\n",
       "<style scoped>\n",
       "    .dataframe tbody tr th:only-of-type {\n",
       "        vertical-align: middle;\n",
       "    }\n",
       "\n",
       "    .dataframe tbody tr th {\n",
       "        vertical-align: top;\n",
       "    }\n",
       "\n",
       "    .dataframe thead th {\n",
       "        text-align: right;\n",
       "    }\n",
       "</style>\n",
       "<table border=\"1\" class=\"dataframe\">\n",
       "  <thead>\n",
       "    <tr style=\"text-align: right;\">\n",
       "      <th></th>\n",
       "      <th>Id</th>\n",
       "      <th>Subject Focus</th>\n",
       "      <th>Eyes</th>\n",
       "      <th>Face</th>\n",
       "      <th>Near</th>\n",
       "      <th>Action</th>\n",
       "      <th>Accessory</th>\n",
       "      <th>Group</th>\n",
       "      <th>Collage</th>\n",
       "      <th>Human</th>\n",
       "      <th>Occlusion</th>\n",
       "      <th>Info</th>\n",
       "      <th>Blur</th>\n",
       "      <th>Pawpularity</th>\n",
       "    </tr>\n",
       "  </thead>\n",
       "  <tbody>\n",
       "    <tr>\n",
       "      <th>0</th>\n",
       "      <td>0007de18844b0dbbb5e1f607da0606e0</td>\n",
       "      <td>0</td>\n",
       "      <td>1</td>\n",
       "      <td>1</td>\n",
       "      <td>1</td>\n",
       "      <td>0</td>\n",
       "      <td>0</td>\n",
       "      <td>1</td>\n",
       "      <td>0</td>\n",
       "      <td>0</td>\n",
       "      <td>0</td>\n",
       "      <td>0</td>\n",
       "      <td>0</td>\n",
       "      <td>63</td>\n",
       "    </tr>\n",
       "    <tr>\n",
       "      <th>1</th>\n",
       "      <td>0009c66b9439883ba2750fb825e1d7db</td>\n",
       "      <td>0</td>\n",
       "      <td>1</td>\n",
       "      <td>1</td>\n",
       "      <td>0</td>\n",
       "      <td>0</td>\n",
       "      <td>0</td>\n",
       "      <td>0</td>\n",
       "      <td>0</td>\n",
       "      <td>0</td>\n",
       "      <td>0</td>\n",
       "      <td>0</td>\n",
       "      <td>0</td>\n",
       "      <td>42</td>\n",
       "    </tr>\n",
       "    <tr>\n",
       "      <th>2</th>\n",
       "      <td>0013fd999caf9a3efe1352ca1b0d937e</td>\n",
       "      <td>0</td>\n",
       "      <td>1</td>\n",
       "      <td>1</td>\n",
       "      <td>1</td>\n",
       "      <td>0</td>\n",
       "      <td>0</td>\n",
       "      <td>0</td>\n",
       "      <td>0</td>\n",
       "      <td>1</td>\n",
       "      <td>1</td>\n",
       "      <td>0</td>\n",
       "      <td>0</td>\n",
       "      <td>28</td>\n",
       "    </tr>\n",
       "    <tr>\n",
       "      <th>3</th>\n",
       "      <td>0018df346ac9c1d8413cfcc888ca8246</td>\n",
       "      <td>0</td>\n",
       "      <td>1</td>\n",
       "      <td>1</td>\n",
       "      <td>1</td>\n",
       "      <td>0</td>\n",
       "      <td>0</td>\n",
       "      <td>0</td>\n",
       "      <td>0</td>\n",
       "      <td>0</td>\n",
       "      <td>0</td>\n",
       "      <td>0</td>\n",
       "      <td>0</td>\n",
       "      <td>15</td>\n",
       "    </tr>\n",
       "    <tr>\n",
       "      <th>4</th>\n",
       "      <td>001dc955e10590d3ca4673f034feeef2</td>\n",
       "      <td>0</td>\n",
       "      <td>0</td>\n",
       "      <td>0</td>\n",
       "      <td>1</td>\n",
       "      <td>0</td>\n",
       "      <td>0</td>\n",
       "      <td>1</td>\n",
       "      <td>0</td>\n",
       "      <td>0</td>\n",
       "      <td>0</td>\n",
       "      <td>0</td>\n",
       "      <td>0</td>\n",
       "      <td>72</td>\n",
       "    </tr>\n",
       "  </tbody>\n",
       "</table>\n",
       "</div>"
      ],
      "text/plain": [
       "                                 Id  Subject Focus  Eyes  Face  Near  Action  \\\n",
       "0  0007de18844b0dbbb5e1f607da0606e0              0     1     1     1       0   \n",
       "1  0009c66b9439883ba2750fb825e1d7db              0     1     1     0       0   \n",
       "2  0013fd999caf9a3efe1352ca1b0d937e              0     1     1     1       0   \n",
       "3  0018df346ac9c1d8413cfcc888ca8246              0     1     1     1       0   \n",
       "4  001dc955e10590d3ca4673f034feeef2              0     0     0     1       0   \n",
       "\n",
       "   Accessory  Group  Collage  Human  Occlusion  Info  Blur  Pawpularity  \n",
       "0          0      1        0      0          0     0     0           63  \n",
       "1          0      0        0      0          0     0     0           42  \n",
       "2          0      0        0      1          1     0     0           28  \n",
       "3          0      0        0      0          0     0     0           15  \n",
       "4          0      1        0      0          0     0     0           72  "
      ]
     },
     "metadata": {},
     "output_type": "display_data"
    },
    {
     "data": {
      "text/html": [
       "<div>\n",
       "<style scoped>\n",
       "    .dataframe tbody tr th:only-of-type {\n",
       "        vertical-align: middle;\n",
       "    }\n",
       "\n",
       "    .dataframe tbody tr th {\n",
       "        vertical-align: top;\n",
       "    }\n",
       "\n",
       "    .dataframe thead th {\n",
       "        text-align: right;\n",
       "    }\n",
       "</style>\n",
       "<table border=\"1\" class=\"dataframe\">\n",
       "  <thead>\n",
       "    <tr style=\"text-align: right;\">\n",
       "      <th></th>\n",
       "      <th>Id</th>\n",
       "      <th>Subject Focus</th>\n",
       "      <th>Eyes</th>\n",
       "      <th>Face</th>\n",
       "      <th>Near</th>\n",
       "      <th>Action</th>\n",
       "      <th>Accessory</th>\n",
       "      <th>Group</th>\n",
       "      <th>Collage</th>\n",
       "      <th>Human</th>\n",
       "      <th>Occlusion</th>\n",
       "      <th>Info</th>\n",
       "      <th>Blur</th>\n",
       "    </tr>\n",
       "  </thead>\n",
       "  <tbody>\n",
       "    <tr>\n",
       "      <th>0</th>\n",
       "      <td>4128bae22183829d2b5fea10effdb0c3</td>\n",
       "      <td>1</td>\n",
       "      <td>0</td>\n",
       "      <td>1</td>\n",
       "      <td>0</td>\n",
       "      <td>0</td>\n",
       "      <td>1</td>\n",
       "      <td>1</td>\n",
       "      <td>0</td>\n",
       "      <td>0</td>\n",
       "      <td>1</td>\n",
       "      <td>0</td>\n",
       "      <td>1</td>\n",
       "    </tr>\n",
       "    <tr>\n",
       "      <th>1</th>\n",
       "      <td>43a2262d7738e3d420d453815151079e</td>\n",
       "      <td>0</td>\n",
       "      <td>1</td>\n",
       "      <td>0</td>\n",
       "      <td>0</td>\n",
       "      <td>0</td>\n",
       "      <td>0</td>\n",
       "      <td>1</td>\n",
       "      <td>1</td>\n",
       "      <td>0</td>\n",
       "      <td>0</td>\n",
       "      <td>0</td>\n",
       "      <td>0</td>\n",
       "    </tr>\n",
       "    <tr>\n",
       "      <th>2</th>\n",
       "      <td>4e429cead1848a298432a0acad014c9d</td>\n",
       "      <td>0</td>\n",
       "      <td>0</td>\n",
       "      <td>0</td>\n",
       "      <td>1</td>\n",
       "      <td>0</td>\n",
       "      <td>1</td>\n",
       "      <td>1</td>\n",
       "      <td>1</td>\n",
       "      <td>0</td>\n",
       "      <td>1</td>\n",
       "      <td>1</td>\n",
       "      <td>1</td>\n",
       "    </tr>\n",
       "    <tr>\n",
       "      <th>3</th>\n",
       "      <td>80bc3ccafcc51b66303c2c263aa38486</td>\n",
       "      <td>1</td>\n",
       "      <td>0</td>\n",
       "      <td>1</td>\n",
       "      <td>0</td>\n",
       "      <td>0</td>\n",
       "      <td>0</td>\n",
       "      <td>0</td>\n",
       "      <td>0</td>\n",
       "      <td>0</td>\n",
       "      <td>0</td>\n",
       "      <td>1</td>\n",
       "      <td>0</td>\n",
       "    </tr>\n",
       "    <tr>\n",
       "      <th>4</th>\n",
       "      <td>8f49844c382931444e68dffbe20228f4</td>\n",
       "      <td>1</td>\n",
       "      <td>1</td>\n",
       "      <td>1</td>\n",
       "      <td>0</td>\n",
       "      <td>1</td>\n",
       "      <td>1</td>\n",
       "      <td>0</td>\n",
       "      <td>1</td>\n",
       "      <td>0</td>\n",
       "      <td>1</td>\n",
       "      <td>1</td>\n",
       "      <td>0</td>\n",
       "    </tr>\n",
       "  </tbody>\n",
       "</table>\n",
       "</div>"
      ],
      "text/plain": [
       "                                 Id  Subject Focus  Eyes  Face  Near  Action  \\\n",
       "0  4128bae22183829d2b5fea10effdb0c3              1     0     1     0       0   \n",
       "1  43a2262d7738e3d420d453815151079e              0     1     0     0       0   \n",
       "2  4e429cead1848a298432a0acad014c9d              0     0     0     1       0   \n",
       "3  80bc3ccafcc51b66303c2c263aa38486              1     0     1     0       0   \n",
       "4  8f49844c382931444e68dffbe20228f4              1     1     1     0       1   \n",
       "\n",
       "   Accessory  Group  Collage  Human  Occlusion  Info  Blur  \n",
       "0          1      1        0      0          1     0     1  \n",
       "1          0      1        1      0          0     0     0  \n",
       "2          1      1        1      0          1     1     1  \n",
       "3          0      0        0      0          0     1     0  \n",
       "4          1      0        1      0          1     1     0  "
      ]
     },
     "metadata": {},
     "output_type": "display_data"
    }
   ],
   "source": [
    "# 데이터 미리보기\n",
    "display(train.head())\n",
    "display(test.head())"
   ]
  },
  {
   "cell_type": "code",
   "execution_count": 4,
   "id": "f38bc760",
   "metadata": {
    "execution": {
     "iopub.execute_input": "2022-12-10T17:10:30.969358Z",
     "iopub.status.busy": "2022-12-10T17:10:30.968806Z",
     "iopub.status.idle": "2022-12-10T17:10:30.974791Z",
     "shell.execute_reply": "2022-12-10T17:10:30.973839Z"
    },
    "papermill": {
     "duration": 0.01665,
     "end_time": "2022-12-10T17:10:30.976652",
     "exception": false,
     "start_time": "2022-12-10T17:10:30.960002",
     "status": "completed"
    },
    "tags": []
   },
   "outputs": [
    {
     "data": {
      "text/plain": [
       "((9912, 14), (8, 13))"
      ]
     },
     "execution_count": 4,
     "metadata": {},
     "output_type": "execute_result"
    }
   ],
   "source": [
    "# shape 확인\n",
    "train.shape, test.shape"
   ]
  },
  {
   "cell_type": "code",
   "execution_count": 5,
   "id": "c5f1b784",
   "metadata": {
    "execution": {
     "iopub.execute_input": "2022-12-10T17:10:30.993954Z",
     "iopub.status.busy": "2022-12-10T17:10:30.993214Z",
     "iopub.status.idle": "2022-12-10T17:10:31.003861Z",
     "shell.execute_reply": "2022-12-10T17:10:31.002954Z"
    },
    "papermill": {
     "duration": 0.02126,
     "end_time": "2022-12-10T17:10:31.005773",
     "exception": false,
     "start_time": "2022-12-10T17:10:30.984513",
     "status": "completed"
    },
    "tags": []
   },
   "outputs": [
    {
     "data": {
      "text/plain": [
       "0"
      ]
     },
     "metadata": {},
     "output_type": "display_data"
    },
    {
     "data": {
      "text/plain": [
       "0"
      ]
     },
     "metadata": {},
     "output_type": "display_data"
    }
   ],
   "source": [
    "display(train.isnull().sum().sum())\n",
    "display(test.isnull().sum().sum())"
   ]
  },
  {
   "cell_type": "markdown",
   "id": "cf653849",
   "metadata": {
    "papermill": {
     "duration": 0.007867,
     "end_time": "2022-12-10T17:10:31.021896",
     "exception": false,
     "start_time": "2022-12-10T17:10:31.014029",
     "status": "completed"
    },
    "tags": []
   },
   "source": [
    "# IMAGE PATH 생성"
   ]
  },
  {
   "cell_type": "code",
   "execution_count": 6,
   "id": "244e7084",
   "metadata": {
    "execution": {
     "iopub.execute_input": "2022-12-10T17:10:31.040165Z",
     "iopub.status.busy": "2022-12-10T17:10:31.039277Z",
     "iopub.status.idle": "2022-12-10T17:10:31.044624Z",
     "shell.execute_reply": "2022-12-10T17:10:31.043679Z"
    },
    "papermill": {
     "duration": 0.016421,
     "end_time": "2022-12-10T17:10:31.046419",
     "exception": false,
     "start_time": "2022-12-10T17:10:31.029998",
     "status": "completed"
    },
    "tags": []
   },
   "outputs": [],
   "source": [
    "# 이미지 경로 불러오는 함수 생성\n",
    "# image_path\n",
    "def create_image_path(ID, isTrain=True):\n",
    "    if isTrain:\n",
    "        return '../input/petfinder-pawpularity-score/train/' + ID + \".jpg\"\n",
    "    else:\n",
    "        return '../input/petfinder-pawpularity-score/test/' + ID + \".jpg\""
   ]
  },
  {
   "cell_type": "code",
   "execution_count": 7,
   "id": "3b5b6d10",
   "metadata": {
    "execution": {
     "iopub.execute_input": "2022-12-10T17:10:31.064449Z",
     "iopub.status.busy": "2022-12-10T17:10:31.063670Z",
     "iopub.status.idle": "2022-12-10T17:10:31.079257Z",
     "shell.execute_reply": "2022-12-10T17:10:31.078486Z"
    },
    "papermill": {
     "duration": 0.026251,
     "end_time": "2022-12-10T17:10:31.081159",
     "exception": false,
     "start_time": "2022-12-10T17:10:31.054908",
     "status": "completed"
    },
    "tags": []
   },
   "outputs": [],
   "source": [
    "train[\"img_path\"] = train[\"Id\"].apply(create_image_path,isTrain=True)\n",
    "test[\"img_path\"] = test[\"Id\"].apply(create_image_path,isTrain=False)"
   ]
  },
  {
   "cell_type": "markdown",
   "id": "a624e00c",
   "metadata": {
    "papermill": {
     "duration": 0.008044,
     "end_time": "2022-12-10T17:10:31.097573",
     "exception": false,
     "start_time": "2022-12-10T17:10:31.089529",
     "status": "completed"
    },
    "tags": []
   },
   "source": [
    "# Hyperparameter Setting"
   ]
  },
  {
   "cell_type": "code",
   "execution_count": 8,
   "id": "938a4307",
   "metadata": {
    "execution": {
     "iopub.execute_input": "2022-12-10T17:10:31.115569Z",
     "iopub.status.busy": "2022-12-10T17:10:31.114720Z",
     "iopub.status.idle": "2022-12-10T17:10:31.119381Z",
     "shell.execute_reply": "2022-12-10T17:10:31.118606Z"
    },
    "papermill": {
     "duration": 0.015641,
     "end_time": "2022-12-10T17:10:31.121271",
     "exception": false,
     "start_time": "2022-12-10T17:10:31.105630",
     "status": "completed"
    },
    "tags": []
   },
   "outputs": [],
   "source": [
    "config = {\n",
    "    'IMG_SIZE':80,\n",
    "    'EPOCHS':50,\n",
    "    'LEARNING_RATE':1e-4,\n",
    "    'BATCH_SIZE':200,\n",
    "    'SEED':42\n",
    "}"
   ]
  },
  {
   "cell_type": "markdown",
   "id": "26df6230",
   "metadata": {
    "papermill": {
     "duration": 0.008346,
     "end_time": "2022-12-10T17:10:31.137581",
     "exception": false,
     "start_time": "2022-12-10T17:10:31.129235",
     "status": "completed"
    },
    "tags": []
   },
   "source": [
    "# Random Seed 고정"
   ]
  },
  {
   "cell_type": "code",
   "execution_count": 9,
   "id": "6e16da35",
   "metadata": {
    "execution": {
     "iopub.execute_input": "2022-12-10T17:10:31.155520Z",
     "iopub.status.busy": "2022-12-10T17:10:31.154654Z",
     "iopub.status.idle": "2022-12-10T17:10:31.160063Z",
     "shell.execute_reply": "2022-12-10T17:10:31.159256Z"
    },
    "papermill": {
     "duration": 0.016467,
     "end_time": "2022-12-10T17:10:31.162043",
     "exception": false,
     "start_time": "2022-12-10T17:10:31.145576",
     "status": "completed"
    },
    "tags": []
   },
   "outputs": [],
   "source": [
    "def seed_everything(seed):\n",
    "    random.seed(seed)\n",
    "    np.random.seed(seed)\n",
    "    os.environ[\"PYTHONHASHSEED\"] = str(seed)\n",
    "    tf.random.set_seed(seed)\n",
    "    \n",
    "seed_everything(config['SEED'])"
   ]
  },
  {
   "cell_type": "markdown",
   "id": "edaa523a",
   "metadata": {
    "papermill": {
     "duration": 0.008088,
     "end_time": "2022-12-10T17:10:31.178115",
     "exception": false,
     "start_time": "2022-12-10T17:10:31.170027",
     "status": "completed"
    },
    "tags": []
   },
   "source": [
    "# Train / Valid 나누기"
   ]
  },
  {
   "cell_type": "code",
   "execution_count": 10,
   "id": "17c14ea1",
   "metadata": {
    "execution": {
     "iopub.execute_input": "2022-12-10T17:10:31.195977Z",
     "iopub.status.busy": "2022-12-10T17:10:31.195290Z",
     "iopub.status.idle": "2022-12-10T17:10:31.207810Z",
     "shell.execute_reply": "2022-12-10T17:10:31.207020Z"
    },
    "papermill": {
     "duration": 0.023623,
     "end_time": "2022-12-10T17:10:31.209724",
     "exception": false,
     "start_time": "2022-12-10T17:10:31.186101",
     "status": "completed"
    },
    "tags": []
   },
   "outputs": [],
   "source": [
    "train_df, val_df, train_labels, val_labels = train_test_split(\n",
    "                                                    train.drop(columns=['Pawpularity']), \n",
    "                                                    train['Pawpularity'], \n",
    "                                                    test_size=0.2, \n",
    "                                                    random_state=config['SEED']\n",
    "                                                )"
   ]
  },
  {
   "cell_type": "code",
   "execution_count": 11,
   "id": "242e016e",
   "metadata": {
    "execution": {
     "iopub.execute_input": "2022-12-10T17:10:31.227675Z",
     "iopub.status.busy": "2022-12-10T17:10:31.226883Z",
     "iopub.status.idle": "2022-12-10T17:10:31.233504Z",
     "shell.execute_reply": "2022-12-10T17:10:31.232406Z"
    },
    "papermill": {
     "duration": 0.017401,
     "end_time": "2022-12-10T17:10:31.235478",
     "exception": false,
     "start_time": "2022-12-10T17:10:31.218077",
     "status": "completed"
    },
    "tags": []
   },
   "outputs": [
    {
     "data": {
      "text/plain": [
       "((7929, 14), (1983, 14), (7929,), (1983,))"
      ]
     },
     "execution_count": 11,
     "metadata": {},
     "output_type": "execute_result"
    }
   ],
   "source": [
    "train_df.shape, val_df.shape, train_labels.shape, val_labels.shape"
   ]
  },
  {
   "cell_type": "code",
   "execution_count": 12,
   "id": "74130815",
   "metadata": {
    "execution": {
     "iopub.execute_input": "2022-12-10T17:10:31.252811Z",
     "iopub.status.busy": "2022-12-10T17:10:31.252552Z",
     "iopub.status.idle": "2022-12-10T17:10:31.258232Z",
     "shell.execute_reply": "2022-12-10T17:10:31.257316Z"
    },
    "papermill": {
     "duration": 0.016563,
     "end_time": "2022-12-10T17:10:31.260188",
     "exception": false,
     "start_time": "2022-12-10T17:10:31.243625",
     "status": "completed"
    },
    "tags": []
   },
   "outputs": [
    {
     "data": {
      "text/plain": [
       "(8, 14)"
      ]
     },
     "execution_count": 12,
     "metadata": {},
     "output_type": "execute_result"
    }
   ],
   "source": [
    "test_df = test\n",
    "test_df.shape"
   ]
  },
  {
   "cell_type": "markdown",
   "id": "c5520f9b",
   "metadata": {
    "papermill": {
     "duration": 0.008275,
     "end_time": "2022-12-10T17:10:31.276679",
     "exception": false,
     "start_time": "2022-12-10T17:10:31.268404",
     "status": "completed"
    },
    "tags": []
   },
   "source": [
    "# Custom Dataset"
   ]
  },
  {
   "cell_type": "code",
   "execution_count": 13,
   "id": "e5e92bde",
   "metadata": {
    "execution": {
     "iopub.execute_input": "2022-12-10T17:10:31.295663Z",
     "iopub.status.busy": "2022-12-10T17:10:31.294309Z",
     "iopub.status.idle": "2022-12-10T17:10:31.299337Z",
     "shell.execute_reply": "2022-12-10T17:10:31.298518Z"
    },
    "papermill": {
     "duration": 0.016142,
     "end_time": "2022-12-10T17:10:31.301288",
     "exception": false,
     "start_time": "2022-12-10T17:10:31.285146",
     "status": "completed"
    },
    "tags": []
   },
   "outputs": [],
   "source": [
    "# 이미지 변환하는 함수\n",
    "def transform(image):\n",
    "    image = cv2.resize(image, (config[\"IMG_SIZE\"],config[\"IMG_SIZE\"]), interpolation=cv2.INTER_AREA)\n",
    "    image = image/255\n",
    "    return image"
   ]
  },
  {
   "cell_type": "code",
   "execution_count": 14,
   "id": "6d1a9ac9",
   "metadata": {
    "execution": {
     "iopub.execute_input": "2022-12-10T17:10:31.319373Z",
     "iopub.status.busy": "2022-12-10T17:10:31.318661Z",
     "iopub.status.idle": "2022-12-10T17:10:31.323811Z",
     "shell.execute_reply": "2022-12-10T17:10:31.323010Z"
    },
    "papermill": {
     "duration": 0.016186,
     "end_time": "2022-12-10T17:10:31.325696",
     "exception": false,
     "start_time": "2022-12-10T17:10:31.309510",
     "status": "completed"
    },
    "tags": []
   },
   "outputs": [],
   "source": [
    "def CustomDataset(img_path, transforms):\n",
    "    image = cv2.imread(img_path)\n",
    "    image = cv2.cvtColor(image, cv2.COLOR_BGR2RGB)\n",
    "        \n",
    "    if transforms is not None:\n",
    "        image = transform(image=image)\n",
    "    return image"
   ]
  },
  {
   "cell_type": "code",
   "execution_count": 15,
   "id": "27e8b394",
   "metadata": {
    "execution": {
     "iopub.execute_input": "2022-12-10T17:10:31.343845Z",
     "iopub.status.busy": "2022-12-10T17:10:31.343125Z",
     "iopub.status.idle": "2022-12-10T17:10:31.348072Z",
     "shell.execute_reply": "2022-12-10T17:10:31.347305Z"
    },
    "papermill": {
     "duration": 0.015762,
     "end_time": "2022-12-10T17:10:31.349973",
     "exception": false,
     "start_time": "2022-12-10T17:10:31.334211",
     "status": "completed"
    },
    "tags": []
   },
   "outputs": [],
   "source": [
    "def img_load_and_custom(img_path):\n",
    "    img_set = []\n",
    "    run_transform = 1\n",
    "    for path in img_path:\n",
    "        img = CustomDataset(path, run_transform)\n",
    "        img_set.append(img)\n",
    "    return img_set"
   ]
  },
  {
   "cell_type": "code",
   "execution_count": 16,
   "id": "0ef2cb1e",
   "metadata": {
    "execution": {
     "iopub.execute_input": "2022-12-10T17:10:31.367580Z",
     "iopub.status.busy": "2022-12-10T17:10:31.367317Z",
     "iopub.status.idle": "2022-12-10T17:13:49.236741Z",
     "shell.execute_reply": "2022-12-10T17:13:49.235720Z"
    },
    "papermill": {
     "duration": 197.880959,
     "end_time": "2022-12-10T17:13:49.239353",
     "exception": false,
     "start_time": "2022-12-10T17:10:31.358394",
     "status": "completed"
    },
    "tags": []
   },
   "outputs": [],
   "source": [
    "train_img_set = img_load_and_custom(train_df['img_path'])\n",
    "val_img_set = img_load_and_custom(val_df['img_path'])\n",
    "test_img_set = img_load_and_custom(test_df['img_path'])"
   ]
  },
  {
   "cell_type": "code",
   "execution_count": 17,
   "id": "1783ce0b",
   "metadata": {
    "execution": {
     "iopub.execute_input": "2022-12-10T17:13:49.258693Z",
     "iopub.status.busy": "2022-12-10T17:13:49.258374Z",
     "iopub.status.idle": "2022-12-10T17:13:49.265885Z",
     "shell.execute_reply": "2022-12-10T17:13:49.264862Z"
    },
    "papermill": {
     "duration": 0.01923,
     "end_time": "2022-12-10T17:13:49.268246",
     "exception": false,
     "start_time": "2022-12-10T17:13:49.249016",
     "status": "completed"
    },
    "tags": []
   },
   "outputs": [],
   "source": [
    "train_tabular_set = train_df.drop(columns=['Id', 'img_path'])\n",
    "val_tabular_set = val_df.drop(columns=['Id', 'img_path'])\n",
    "test_tabular_set = test_df.drop(columns=['Id', 'img_path'])"
   ]
  },
  {
   "cell_type": "code",
   "execution_count": 18,
   "id": "511d5621",
   "metadata": {
    "execution": {
     "iopub.execute_input": "2022-12-10T17:13:49.286172Z",
     "iopub.status.busy": "2022-12-10T17:13:49.285904Z",
     "iopub.status.idle": "2022-12-10T17:13:49.645153Z",
     "shell.execute_reply": "2022-12-10T17:13:49.644180Z"
    },
    "papermill": {
     "duration": 0.370831,
     "end_time": "2022-12-10T17:13:49.647605",
     "exception": false,
     "start_time": "2022-12-10T17:13:49.276774",
     "status": "completed"
    },
    "tags": []
   },
   "outputs": [
    {
     "data": {
      "text/plain": [
       "(7929, 80, 80, 3)"
      ]
     },
     "execution_count": 18,
     "metadata": {},
     "output_type": "execute_result"
    }
   ],
   "source": [
    "np.array(train_img_set).shape"
   ]
  },
  {
   "cell_type": "code",
   "execution_count": 19,
   "id": "34eb3850",
   "metadata": {
    "execution": {
     "iopub.execute_input": "2022-12-10T17:13:49.665924Z",
     "iopub.status.busy": "2022-12-10T17:13:49.665619Z",
     "iopub.status.idle": "2022-12-10T17:13:50.091881Z",
     "shell.execute_reply": "2022-12-10T17:13:50.090863Z"
    },
    "papermill": {
     "duration": 0.437986,
     "end_time": "2022-12-10T17:13:50.094277",
     "exception": false,
     "start_time": "2022-12-10T17:13:49.656291",
     "status": "completed"
    },
    "tags": []
   },
   "outputs": [],
   "source": [
    "train_img_set = np.array(train_img_set)\n",
    "val_img_set = np.array(val_img_set)\n",
    "test_img_set = np.array(test_img_set)"
   ]
  },
  {
   "cell_type": "code",
   "execution_count": 20,
   "id": "c056f162",
   "metadata": {
    "execution": {
     "iopub.execute_input": "2022-12-10T17:13:50.113667Z",
     "iopub.status.busy": "2022-12-10T17:13:50.112810Z",
     "iopub.status.idle": "2022-12-10T17:13:50.121208Z",
     "shell.execute_reply": "2022-12-10T17:13:50.120362Z"
    },
    "papermill": {
     "duration": 0.020116,
     "end_time": "2022-12-10T17:13:50.123199",
     "exception": false,
     "start_time": "2022-12-10T17:13:50.103083",
     "status": "completed"
    },
    "tags": []
   },
   "outputs": [],
   "source": [
    "train_tabular_set = np.array(train_tabular_set)\n",
    "val_tabular_set = np.array(val_tabular_set)\n",
    "test_tabular_set = np.array(test_tabular_set)"
   ]
  },
  {
   "cell_type": "code",
   "execution_count": 21,
   "id": "23428cf5",
   "metadata": {
    "execution": {
     "iopub.execute_input": "2022-12-10T17:13:50.141413Z",
     "iopub.status.busy": "2022-12-10T17:13:50.141138Z",
     "iopub.status.idle": "2022-12-10T17:13:50.146619Z",
     "shell.execute_reply": "2022-12-10T17:13:50.145712Z"
    },
    "papermill": {
     "duration": 0.01818,
     "end_time": "2022-12-10T17:13:50.149829",
     "exception": false,
     "start_time": "2022-12-10T17:13:50.131649",
     "status": "completed"
    },
    "tags": []
   },
   "outputs": [
    {
     "name": "stdout",
     "output_type": "stream",
     "text": [
      "(80, 80, 3)\n",
      "(12,)\n"
     ]
    }
   ],
   "source": [
    "print(train_img_set[0].shape)\n",
    "print(train_tabular_set[0].shape)"
   ]
  },
  {
   "cell_type": "markdown",
   "id": "5d51b9ac",
   "metadata": {
    "papermill": {
     "duration": 0.008135,
     "end_time": "2022-12-10T17:13:50.167165",
     "exception": false,
     "start_time": "2022-12-10T17:13:50.159030",
     "status": "completed"
    },
    "tags": []
   },
   "source": [
    "# Model Build"
   ]
  },
  {
   "cell_type": "code",
   "execution_count": 22,
   "id": "6b8a54f1",
   "metadata": {
    "execution": {
     "iopub.execute_input": "2022-12-10T17:13:50.184995Z",
     "iopub.status.busy": "2022-12-10T17:13:50.184587Z",
     "iopub.status.idle": "2022-12-10T17:13:50.194811Z",
     "shell.execute_reply": "2022-12-10T17:13:50.193868Z"
    },
    "papermill": {
     "duration": 0.021398,
     "end_time": "2022-12-10T17:13:50.196839",
     "exception": false,
     "start_time": "2022-12-10T17:13:50.175441",
     "status": "completed"
    },
    "tags": []
   },
   "outputs": [],
   "source": [
    "class ImgFeatureExtractor(tf.keras.Model):\n",
    "    def __init__(self):\n",
    "        super(ImgFeatureExtractor, self).__init__()\n",
    "#       본대회 규정상 인터넷 사용 금지 --> 전이학습 불가 (인터넷에서 다운받아야 함)\n",
    "#       self.backbone = EfficientNetB0(include_top=False, weights='imagenet')\n",
    "        self.conv1 = tf.keras.layers.Conv2D(16,(3,3),activation='relu',input_shape=(80,80,3))\n",
    "        self.pool1 = tf.keras.layers.MaxPool2D((2,2))\n",
    "        \n",
    "        self.conv2 = tf.keras.layers.Conv2D(32,(3,3),activation='relu')\n",
    "        self.pool2 = tf.keras.layers.MaxPool2D((2,2))\n",
    "        \n",
    "        self.conv3 = tf.keras.layers.Conv2D(64,(3,3),activation='relu')\n",
    "        self.pool3 = tf.keras.layers.MaxPool2D((2,2))\n",
    "        \n",
    "        \n",
    "        self.flatten = tf.keras.layers.Flatten()\n",
    "        # 62 -> 128\n",
    "        self.dense1 = tf.keras.layers.Dense(128,activation='relu')\n",
    "        self.drop = tf.keras.layers.Dropout(0.1)\n",
    "        self.dense2 = tf.keras.layers.Dense(64,activation='linear')\n",
    "        \n",
    "    def call(self, x):\n",
    "        x = self.conv1(x)\n",
    "        x = self.pool1(x)\n",
    "        \n",
    "        x = self.conv2(x)\n",
    "        x = self.pool2(x)\n",
    "        \n",
    "        x = self.conv3(x)\n",
    "        x = self.pool3(x)\n",
    "        \n",
    "        x = self.flatten(x)\n",
    "        x = self.dense1(x)\n",
    "        x = self.drop(x)\n",
    "        x = self.dense2(x)\n",
    "        return x"
   ]
  },
  {
   "cell_type": "code",
   "execution_count": 23,
   "id": "0d41f71a",
   "metadata": {
    "execution": {
     "iopub.execute_input": "2022-12-10T17:13:50.214764Z",
     "iopub.status.busy": "2022-12-10T17:13:50.214500Z",
     "iopub.status.idle": "2022-12-10T17:13:50.222706Z",
     "shell.execute_reply": "2022-12-10T17:13:50.221772Z"
    },
    "papermill": {
     "duration": 0.019339,
     "end_time": "2022-12-10T17:13:50.224659",
     "exception": false,
     "start_time": "2022-12-10T17:13:50.205320",
     "status": "completed"
    },
    "tags": []
   },
   "outputs": [],
   "source": [
    "class TabularFeatureExtractor(tf.keras.Model):\n",
    "    def __init__(self):\n",
    "        super(TabularFeatureExtractor, self).__init__()\n",
    "        self.Dense1 = tf.keras.layers.Dense(64)\n",
    "        self.norm1 = tf.keras.layers.BatchNormalization()\n",
    "        self.activ1 = tf.keras.layers.LeakyReLU()\n",
    "        self.Dense2 = tf.keras.layers.Dense(64)\n",
    "        self.norm2 = tf.keras.layers.BatchNormalization()\n",
    "        self.activ2 = tf.keras.layers.LeakyReLU()\n",
    "        self.Dense3 = tf.keras.layers.Dense(64)\n",
    "        self.norm3 = tf.keras.layers.BatchNormalization()\n",
    "        self.activ3 = tf.keras.layers.LeakyReLU()\n",
    "        self.Dense4 = tf.keras.layers.Dense(64)\n",
    "        \n",
    "    def call(self, x):\n",
    "        x = self.Dense1(x)\n",
    "        x = self.norm1(x)\n",
    "        x = self.activ1(x)\n",
    "        \n",
    "        x = self.Dense2(x)\n",
    "        x = self.norm2(x)\n",
    "        x = self.activ2(x)\n",
    "        \n",
    "        x = self.Dense3(x)\n",
    "        x = self.norm3(x)\n",
    "        x = self.activ3(x)\n",
    "        \n",
    "        x = self.Dense4(x)\n",
    "        return x"
   ]
  },
  {
   "cell_type": "code",
   "execution_count": 24,
   "id": "db6f367a",
   "metadata": {
    "execution": {
     "iopub.execute_input": "2022-12-10T17:13:50.242645Z",
     "iopub.status.busy": "2022-12-10T17:13:50.242346Z",
     "iopub.status.idle": "2022-12-10T17:13:50.248285Z",
     "shell.execute_reply": "2022-12-10T17:13:50.247382Z"
    },
    "papermill": {
     "duration": 0.01721,
     "end_time": "2022-12-10T17:13:50.250430",
     "exception": false,
     "start_time": "2022-12-10T17:13:50.233220",
     "status": "completed"
    },
    "tags": []
   },
   "outputs": [],
   "source": [
    "class Model_build(tf.keras.Model):\n",
    "    def __init__(self):\n",
    "        super(Model_build, self).__init__()\n",
    "        self.img_feature_extractor = ImgFeatureExtractor()\n",
    "        self.tabular_feature_extractor = TabularFeatureExtractor()\n",
    "        self.regression = tf.keras.layers.Dense(1)\n",
    "        \n",
    "    def call(self, inputs):\n",
    "        img_feature = self.img_feature_extractor(inputs[0])\n",
    "        tabular_feature = self.tabular_feature_extractor(inputs[1])\n",
    "        feature = tf.keras.layers.Concatenate(axis=-1)([img_feature, tabular_feature])\n",
    "        output = self.regression(feature)\n",
    "        return output"
   ]
  },
  {
   "cell_type": "code",
   "execution_count": 25,
   "id": "d812a57e",
   "metadata": {
    "execution": {
     "iopub.execute_input": "2022-12-10T17:13:50.268290Z",
     "iopub.status.busy": "2022-12-10T17:13:50.268024Z",
     "iopub.status.idle": "2022-12-10T17:13:52.696637Z",
     "shell.execute_reply": "2022-12-10T17:13:52.695602Z"
    },
    "papermill": {
     "duration": 2.439981,
     "end_time": "2022-12-10T17:13:52.698787",
     "exception": false,
     "start_time": "2022-12-10T17:13:50.258806",
     "status": "completed"
    },
    "tags": []
   },
   "outputs": [
    {
     "name": "stderr",
     "output_type": "stream",
     "text": [
      "2022-12-10 17:13:50.357531: I tensorflow/stream_executor/cuda/cuda_gpu_executor.cc:937] successful NUMA node read from SysFS had negative value (-1), but there must be at least one NUMA node, so returning NUMA node zero\n",
      "2022-12-10 17:13:50.469519: I tensorflow/stream_executor/cuda/cuda_gpu_executor.cc:937] successful NUMA node read from SysFS had negative value (-1), but there must be at least one NUMA node, so returning NUMA node zero\n",
      "2022-12-10 17:13:50.470333: I tensorflow/stream_executor/cuda/cuda_gpu_executor.cc:937] successful NUMA node read from SysFS had negative value (-1), but there must be at least one NUMA node, so returning NUMA node zero\n",
      "2022-12-10 17:13:50.471625: I tensorflow/core/platform/cpu_feature_guard.cc:142] This TensorFlow binary is optimized with oneAPI Deep Neural Network Library (oneDNN) to use the following CPU instructions in performance-critical operations:  AVX2 AVX512F FMA\n",
      "To enable them in other operations, rebuild TensorFlow with the appropriate compiler flags.\n",
      "2022-12-10 17:13:50.471935: I tensorflow/stream_executor/cuda/cuda_gpu_executor.cc:937] successful NUMA node read from SysFS had negative value (-1), but there must be at least one NUMA node, so returning NUMA node zero\n",
      "2022-12-10 17:13:50.472706: I tensorflow/stream_executor/cuda/cuda_gpu_executor.cc:937] successful NUMA node read from SysFS had negative value (-1), but there must be at least one NUMA node, so returning NUMA node zero\n",
      "2022-12-10 17:13:50.473380: I tensorflow/stream_executor/cuda/cuda_gpu_executor.cc:937] successful NUMA node read from SysFS had negative value (-1), but there must be at least one NUMA node, so returning NUMA node zero\n",
      "2022-12-10 17:13:52.282215: I tensorflow/stream_executor/cuda/cuda_gpu_executor.cc:937] successful NUMA node read from SysFS had negative value (-1), but there must be at least one NUMA node, so returning NUMA node zero\n",
      "2022-12-10 17:13:52.283108: I tensorflow/stream_executor/cuda/cuda_gpu_executor.cc:937] successful NUMA node read from SysFS had negative value (-1), but there must be at least one NUMA node, so returning NUMA node zero\n",
      "2022-12-10 17:13:52.283800: I tensorflow/stream_executor/cuda/cuda_gpu_executor.cc:937] successful NUMA node read from SysFS had negative value (-1), but there must be at least one NUMA node, so returning NUMA node zero\n",
      "2022-12-10 17:13:52.284386: I tensorflow/core/common_runtime/gpu/gpu_device.cc:1510] Created device /job:localhost/replica:0/task:0/device:GPU:0 with 15401 MB memory:  -> device: 0, name: Tesla P100-PCIE-16GB, pci bus id: 0000:00:04.0, compute capability: 6.0\n"
     ]
    },
    {
     "name": "stdout",
     "output_type": "stream",
     "text": [
      "Model: \"model_build\"\n",
      "_________________________________________________________________\n",
      "Layer (type)                 Output Shape              Param #   \n",
      "=================================================================\n",
      "img_feature_extractor (ImgFe multiple                  556256    \n",
      "_________________________________________________________________\n",
      "tabular_feature_extractor (T multiple                  14080     \n",
      "_________________________________________________________________\n",
      "dense_6 (Dense)              multiple                  129       \n",
      "=================================================================\n",
      "Total params: 570,465\n",
      "Trainable params: 570,081\n",
      "Non-trainable params: 384\n",
      "_________________________________________________________________\n"
     ]
    }
   ],
   "source": [
    "model = Model_build()\n",
    "\n",
    "input1 = tf.keras.layers.Input(train_img_set[0].shape)\n",
    "input2 = tf.keras.layers.Input(train_tabular_set[0].shape[0])\n",
    "\n",
    "model([input1,input2])\n",
    "\n",
    "# 모델 요약\n",
    "model.summary()"
   ]
  },
  {
   "cell_type": "code",
   "execution_count": 26,
   "id": "fb9f3ac9",
   "metadata": {
    "execution": {
     "iopub.execute_input": "2022-12-10T17:13:52.717438Z",
     "iopub.status.busy": "2022-12-10T17:13:52.717156Z",
     "iopub.status.idle": "2022-12-10T17:13:52.730029Z",
     "shell.execute_reply": "2022-12-10T17:13:52.729136Z"
    },
    "papermill": {
     "duration": 0.024374,
     "end_time": "2022-12-10T17:13:52.731960",
     "exception": false,
     "start_time": "2022-12-10T17:13:52.707586",
     "status": "completed"
    },
    "tags": []
   },
   "outputs": [],
   "source": [
    "model.compile(\n",
    "    loss = 'mse', \n",
    "    optimizer = tf.keras.optimizers.Adam(learning_rate=config['LEARNING_RATE']), \n",
    "    metrics = [tf.keras.metrics.RootMeanSquaredError(name=\"rmse\")])"
   ]
  },
  {
   "cell_type": "code",
   "execution_count": 27,
   "id": "8fd64eca",
   "metadata": {
    "execution": {
     "iopub.execute_input": "2022-12-10T17:13:52.750641Z",
     "iopub.status.busy": "2022-12-10T17:13:52.749805Z",
     "iopub.status.idle": "2022-12-10T17:14:45.038546Z",
     "shell.execute_reply": "2022-12-10T17:14:45.037594Z"
    },
    "papermill": {
     "duration": 52.300112,
     "end_time": "2022-12-10T17:14:45.040509",
     "exception": false,
     "start_time": "2022-12-10T17:13:52.740397",
     "status": "completed"
    },
    "tags": []
   },
   "outputs": [
    {
     "name": "stderr",
     "output_type": "stream",
     "text": [
      "2022-12-10 17:13:52.987821: W tensorflow/core/framework/cpu_allocator_impl.cc:80] Allocation of 608947200 exceeds 10% of free system memory.\n",
      "2022-12-10 17:13:53.679839: W tensorflow/core/framework/cpu_allocator_impl.cc:80] Allocation of 608947200 exceeds 10% of free system memory.\n",
      "2022-12-10 17:13:54.189495: I tensorflow/compiler/mlir/mlir_graph_optimization_pass.cc:185] None of the MLIR Optimization Passes are enabled (registered 2)\n"
     ]
    },
    {
     "name": "stdout",
     "output_type": "stream",
     "text": [
      "Epoch 1/50\n"
     ]
    },
    {
     "name": "stderr",
     "output_type": "stream",
     "text": [
      "2022-12-10 17:13:57.119513: I tensorflow/stream_executor/cuda/cuda_dnn.cc:369] Loaded cuDNN version 8005\n"
     ]
    },
    {
     "name": "stdout",
     "output_type": "stream",
     "text": [
      "39/39 [==============================] - 9s 33ms/step - loss: 1443.4766 - rmse: 37.9931 - val_loss: 631.3016 - val_rmse: 25.1257\n",
      "Epoch 2/50\n",
      "39/39 [==============================] - 1s 22ms/step - loss: 470.6891 - rmse: 21.6954 - val_loss: 472.1790 - val_rmse: 21.7297\n",
      "Epoch 3/50\n",
      "39/39 [==============================] - 1s 22ms/step - loss: 455.5927 - rmse: 21.3446 - val_loss: 467.8333 - val_rmse: 21.6295\n",
      "Epoch 4/50\n",
      "39/39 [==============================] - 1s 22ms/step - loss: 443.2203 - rmse: 21.0528 - val_loss: 472.6581 - val_rmse: 21.7407\n",
      "Epoch 5/50\n",
      "39/39 [==============================] - 1s 25ms/step - loss: 445.3729 - rmse: 21.1039 - val_loss: 464.9432 - val_rmse: 21.5625\n",
      "Epoch 6/50\n",
      "39/39 [==============================] - 1s 21ms/step - loss: 439.0481 - rmse: 20.9535 - val_loss: 464.1190 - val_rmse: 21.5434\n",
      "Epoch 7/50\n",
      "39/39 [==============================] - 1s 21ms/step - loss: 440.7108 - rmse: 20.9931 - val_loss: 462.8455 - val_rmse: 21.5138\n",
      "Epoch 8/50\n",
      "39/39 [==============================] - 1s 20ms/step - loss: 442.6056 - rmse: 21.0382 - val_loss: 466.9788 - val_rmse: 21.6097\n",
      "Epoch 9/50\n",
      "39/39 [==============================] - 1s 21ms/step - loss: 444.6718 - rmse: 21.0872 - val_loss: 459.6378 - val_rmse: 21.4392\n",
      "Epoch 10/50\n",
      "39/39 [==============================] - 1s 22ms/step - loss: 435.3503 - rmse: 20.8650 - val_loss: 457.8888 - val_rmse: 21.3983\n",
      "Epoch 11/50\n",
      "39/39 [==============================] - 1s 21ms/step - loss: 430.6616 - rmse: 20.7524 - val_loss: 456.7854 - val_rmse: 21.3725\n",
      "Epoch 12/50\n",
      "39/39 [==============================] - 1s 21ms/step - loss: 443.4192 - rmse: 21.0575 - val_loss: 455.3176 - val_rmse: 21.3382\n",
      "Epoch 13/50\n",
      "39/39 [==============================] - 1s 22ms/step - loss: 435.3445 - rmse: 20.8649 - val_loss: 454.4239 - val_rmse: 21.3172\n",
      "Epoch 14/50\n",
      "39/39 [==============================] - 1s 29ms/step - loss: 429.9715 - rmse: 20.7358 - val_loss: 453.6730 - val_rmse: 21.2996\n",
      "Epoch 15/50\n",
      "39/39 [==============================] - 1s 23ms/step - loss: 426.4989 - rmse: 20.6518 - val_loss: 451.8883 - val_rmse: 21.2577\n",
      "Epoch 16/50\n",
      "39/39 [==============================] - 1s 22ms/step - loss: 429.8821 - rmse: 20.7336 - val_loss: 450.5951 - val_rmse: 21.2272\n",
      "Epoch 17/50\n",
      "39/39 [==============================] - 1s 24ms/step - loss: 428.6645 - rmse: 20.7042 - val_loss: 449.7841 - val_rmse: 21.2081\n",
      "Epoch 18/50\n",
      "39/39 [==============================] - 1s 23ms/step - loss: 439.1018 - rmse: 20.9548 - val_loss: 448.5251 - val_rmse: 21.1784\n",
      "Epoch 19/50\n",
      "39/39 [==============================] - 1s 20ms/step - loss: 411.5035 - rmse: 20.2855 - val_loss: 446.7097 - val_rmse: 21.1355\n",
      "Epoch 20/50\n",
      "39/39 [==============================] - 1s 21ms/step - loss: 425.0066 - rmse: 20.6157 - val_loss: 445.3931 - val_rmse: 21.1043\n",
      "Epoch 21/50\n",
      "39/39 [==============================] - 1s 21ms/step - loss: 430.7557 - rmse: 20.7547 - val_loss: 444.6892 - val_rmse: 21.0877\n",
      "Epoch 22/50\n",
      "39/39 [==============================] - 1s 21ms/step - loss: 416.4407 - rmse: 20.4069 - val_loss: 443.0819 - val_rmse: 21.0495\n",
      "Epoch 23/50\n",
      "39/39 [==============================] - 1s 21ms/step - loss: 414.3269 - rmse: 20.3550 - val_loss: 442.2127 - val_rmse: 21.0289\n",
      "Epoch 24/50\n",
      "39/39 [==============================] - 1s 21ms/step - loss: 425.6664 - rmse: 20.6317 - val_loss: 441.4646 - val_rmse: 21.0111\n",
      "Epoch 25/50\n",
      "39/39 [==============================] - 1s 21ms/step - loss: 418.4896 - rmse: 20.4570 - val_loss: 440.9777 - val_rmse: 20.9995\n",
      "Epoch 26/50\n",
      "39/39 [==============================] - 1s 21ms/step - loss: 434.7148 - rmse: 20.8498 - val_loss: 440.8533 - val_rmse: 20.9965\n",
      "Epoch 27/50\n",
      "39/39 [==============================] - 1s 21ms/step - loss: 413.1790 - rmse: 20.3268 - val_loss: 442.8838 - val_rmse: 21.0448\n",
      "Epoch 28/50\n",
      "39/39 [==============================] - 1s 21ms/step - loss: 411.9630 - rmse: 20.2969 - val_loss: 441.0671 - val_rmse: 21.0016\n",
      "Epoch 29/50\n",
      "39/39 [==============================] - 1s 21ms/step - loss: 424.2167 - rmse: 20.5965 - val_loss: 439.0344 - val_rmse: 20.9531\n",
      "Epoch 30/50\n",
      "39/39 [==============================] - 1s 21ms/step - loss: 412.0412 - rmse: 20.2988 - val_loss: 440.3707 - val_rmse: 20.9850\n",
      "Epoch 31/50\n",
      "39/39 [==============================] - 1s 26ms/step - loss: 418.2336 - rmse: 20.4508 - val_loss: 440.8342 - val_rmse: 20.9961\n",
      "Epoch 32/50\n",
      "39/39 [==============================] - 1s 21ms/step - loss: 421.8819 - rmse: 20.5398 - val_loss: 438.3685 - val_rmse: 20.9373\n",
      "Epoch 33/50\n",
      "39/39 [==============================] - 1s 21ms/step - loss: 409.3879 - rmse: 20.2333 - val_loss: 439.2076 - val_rmse: 20.9573\n",
      "Epoch 34/50\n",
      "39/39 [==============================] - 1s 21ms/step - loss: 418.1592 - rmse: 20.4489 - val_loss: 442.6190 - val_rmse: 21.0385\n",
      "Epoch 35/50\n",
      "39/39 [==============================] - 1s 21ms/step - loss: 417.1324 - rmse: 20.4238 - val_loss: 439.9167 - val_rmse: 20.9742\n",
      "Epoch 36/50\n",
      "39/39 [==============================] - 1s 20ms/step - loss: 418.7582 - rmse: 20.4636 - val_loss: 438.4060 - val_rmse: 20.9381\n",
      "Epoch 37/50\n",
      "39/39 [==============================] - 1s 21ms/step - loss: 412.2544 - rmse: 20.3040 - val_loss: 437.6825 - val_rmse: 20.9209\n",
      "Epoch 38/50\n",
      "39/39 [==============================] - 1s 21ms/step - loss: 414.5774 - rmse: 20.3612 - val_loss: 439.0028 - val_rmse: 20.9524\n",
      "Epoch 39/50\n",
      "39/39 [==============================] - 1s 21ms/step - loss: 415.5351 - rmse: 20.3847 - val_loss: 437.7499 - val_rmse: 20.9225\n",
      "Epoch 40/50\n",
      "39/39 [==============================] - 1s 20ms/step - loss: 415.3716 - rmse: 20.3807 - val_loss: 439.7311 - val_rmse: 20.9698\n",
      "Epoch 41/50\n",
      "39/39 [==============================] - 1s 21ms/step - loss: 413.1393 - rmse: 20.3258 - val_loss: 437.3585 - val_rmse: 20.9131\n",
      "Epoch 42/50\n",
      "39/39 [==============================] - 1s 20ms/step - loss: 410.1719 - rmse: 20.2527 - val_loss: 437.4341 - val_rmse: 20.9149\n",
      "Epoch 43/50\n",
      "39/39 [==============================] - 1s 21ms/step - loss: 415.7430 - rmse: 20.3898 - val_loss: 438.3168 - val_rmse: 20.9360\n",
      "Epoch 44/50\n",
      "39/39 [==============================] - 1s 25ms/step - loss: 410.3587 - rmse: 20.2573 - val_loss: 438.6328 - val_rmse: 20.9436\n",
      "Epoch 45/50\n",
      "39/39 [==============================] - 1s 22ms/step - loss: 413.3033 - rmse: 20.3299 - val_loss: 442.1588 - val_rmse: 21.0276\n",
      "Epoch 46/50\n",
      "39/39 [==============================] - 1s 21ms/step - loss: 412.1060 - rmse: 20.3004 - val_loss: 437.3363 - val_rmse: 20.9126\n",
      "Epoch 47/50\n",
      "39/39 [==============================] - 1s 21ms/step - loss: 410.2244 - rmse: 20.2540 - val_loss: 437.3734 - val_rmse: 20.9135\n",
      "Epoch 48/50\n",
      "39/39 [==============================] - 1s 22ms/step - loss: 408.3517 - rmse: 20.2077 - val_loss: 439.1147 - val_rmse: 20.9551\n",
      "Epoch 49/50\n",
      "39/39 [==============================] - 1s 21ms/step - loss: 411.0210 - rmse: 20.2737 - val_loss: 438.4832 - val_rmse: 20.9400\n",
      "Epoch 50/50\n",
      "39/39 [==============================] - 1s 20ms/step - loss: 416.3188 - rmse: 20.4039 - val_loss: 437.8256 - val_rmse: 20.9243\n"
     ]
    }
   ],
   "source": [
    "history = model.fit(\n",
    "    (train_img_set, train_tabular_set),\n",
    "    train_labels, \n",
    "    batch_size=config[\"BATCH_SIZE\"],\n",
    "    validation_data = ((val_img_set, val_tabular_set) ,val_labels),\n",
    "    steps_per_epoch = len(train_img_set) // config[\"BATCH_SIZE\"],\n",
    "    epochs = config[\"EPOCHS\"]\n",
    ")"
   ]
  },
  {
   "cell_type": "markdown",
   "id": "badb40a8",
   "metadata": {
    "papermill": {
     "duration": 0.04425,
     "end_time": "2022-12-10T17:14:45.130294",
     "exception": false,
     "start_time": "2022-12-10T17:14:45.086044",
     "status": "completed"
    },
    "tags": []
   },
   "source": [
    "### tabular 512 출력일 때 \n",
    "loss: 416.8122 - rmse: 20.4160 - val_loss: 446.0490 - val_rmse: 21.1199"
   ]
  },
  {
   "cell_type": "code",
   "execution_count": 28,
   "id": "a455fe32",
   "metadata": {
    "execution": {
     "iopub.execute_input": "2022-12-10T17:14:45.219522Z",
     "iopub.status.busy": "2022-12-10T17:14:45.219150Z",
     "iopub.status.idle": "2022-12-10T17:14:45.543565Z",
     "shell.execute_reply": "2022-12-10T17:14:45.542632Z"
    },
    "papermill": {
     "duration": 0.371682,
     "end_time": "2022-12-10T17:14:45.546198",
     "exception": false,
     "start_time": "2022-12-10T17:14:45.174516",
     "status": "completed"
    },
    "tags": []
   },
   "outputs": [
    {
     "data": {
      "text/plain": [
       "<matplotlib.legend.Legend at 0x7fc74920d090>"
      ]
     },
     "execution_count": 28,
     "metadata": {},
     "output_type": "execute_result"
    },
    {
     "data": {
      "image/png": "[encoded data removed]",
      "text/plain": [
       "<Figure size 432x288 with 1 Axes>"
      ]
     },
     "metadata": {
      "needs_background": "light"
     },
     "output_type": "display_data"
    }
   ],
   "source": [
    "plt.figure()\n",
    "plt.plot(history.history[\"rmse\"], label=\"train_rmse\")\n",
    "plt.plot(history.history[\"val_rmse\"], label=\"val_rmse\")\n",
    "plt.title(\"RMSE train/validation by Epoch\")\n",
    "plt.xlabel(\"Epoch #\")\n",
    "plt.ylabel(\"RMSE\")\n",
    "plt.legend(loc=\"upper right\")"
   ]
  },
  {
   "cell_type": "code",
   "execution_count": 29,
   "id": "33b489d4",
   "metadata": {
    "execution": {
     "iopub.execute_input": "2022-12-10T17:14:45.697626Z",
     "iopub.status.busy": "2022-12-10T17:14:45.697038Z",
     "iopub.status.idle": "2022-12-10T17:14:45.991550Z",
     "shell.execute_reply": "2022-12-10T17:14:45.990617Z"
    },
    "papermill": {
     "duration": 0.365296,
     "end_time": "2022-12-10T17:14:45.994376",
     "exception": false,
     "start_time": "2022-12-10T17:14:45.629080",
     "status": "completed"
    },
    "tags": []
   },
   "outputs": [
    {
     "data": {
      "text/plain": [
       "array([[30.471836],\n",
       "       [26.63395 ],\n",
       "       [30.653095],\n",
       "       [22.370447],\n",
       "       [25.515615],\n",
       "       [28.55825 ],\n",
       "       [18.374111],\n",
       "       [24.43773 ]], dtype=float32)"
      ]
     },
     "execution_count": 29,
     "metadata": {},
     "output_type": "execute_result"
    }
   ],
   "source": [
    "predict = model.predict([test_img_set,test_tabular_set])\n",
    "predict"
   ]
  },
  {
   "cell_type": "code",
   "execution_count": 30,
   "id": "e25fd7d2",
   "metadata": {
    "execution": {
     "iopub.execute_input": "2022-12-10T17:14:46.146803Z",
     "iopub.status.busy": "2022-12-10T17:14:46.146372Z",
     "iopub.status.idle": "2022-12-10T17:14:46.167010Z",
     "shell.execute_reply": "2022-12-10T17:14:46.166075Z"
    },
    "papermill": {
     "duration": 0.097592,
     "end_time": "2022-12-10T17:14:46.169589",
     "exception": false,
     "start_time": "2022-12-10T17:14:46.071997",
     "status": "completed"
    },
    "tags": []
   },
   "outputs": [
    {
     "data": {
      "text/html": [
       "<div>\n",
       "<style scoped>\n",
       "    .dataframe tbody tr th:only-of-type {\n",
       "        vertical-align: middle;\n",
       "    }\n",
       "\n",
       "    .dataframe tbody tr th {\n",
       "        vertical-align: top;\n",
       "    }\n",
       "\n",
       "    .dataframe thead th {\n",
       "        text-align: right;\n",
       "    }\n",
       "</style>\n",
       "<table border=\"1\" class=\"dataframe\">\n",
       "  <thead>\n",
       "    <tr style=\"text-align: right;\">\n",
       "      <th></th>\n",
       "      <th>Id</th>\n",
       "      <th>Pawpularity</th>\n",
       "    </tr>\n",
       "  </thead>\n",
       "  <tbody>\n",
       "    <tr>\n",
       "      <th>0</th>\n",
       "      <td>4128bae22183829d2b5fea10effdb0c3</td>\n",
       "      <td>67.75</td>\n",
       "    </tr>\n",
       "    <tr>\n",
       "      <th>1</th>\n",
       "      <td>43a2262d7738e3d420d453815151079e</td>\n",
       "      <td>59.15</td>\n",
       "    </tr>\n",
       "    <tr>\n",
       "      <th>2</th>\n",
       "      <td>4e429cead1848a298432a0acad014c9d</td>\n",
       "      <td>20.02</td>\n",
       "    </tr>\n",
       "    <tr>\n",
       "      <th>3</th>\n",
       "      <td>80bc3ccafcc51b66303c2c263aa38486</td>\n",
       "      <td>94.53</td>\n",
       "    </tr>\n",
       "    <tr>\n",
       "      <th>4</th>\n",
       "      <td>8f49844c382931444e68dffbe20228f4</td>\n",
       "      <td>89.82</td>\n",
       "    </tr>\n",
       "  </tbody>\n",
       "</table>\n",
       "</div>"
      ],
      "text/plain": [
       "                                 Id  Pawpularity\n",
       "0  4128bae22183829d2b5fea10effdb0c3        67.75\n",
       "1  43a2262d7738e3d420d453815151079e        59.15\n",
       "2  4e429cead1848a298432a0acad014c9d        20.02\n",
       "3  80bc3ccafcc51b66303c2c263aa38486        94.53\n",
       "4  8f49844c382931444e68dffbe20228f4        89.82"
      ]
     },
     "execution_count": 30,
     "metadata": {},
     "output_type": "execute_result"
    }
   ],
   "source": [
    "submit = pd.read_csv('../input/petfinder-pawpularity-score/sample_submission.csv')\n",
    "submit.head()"
   ]
  },
  {
   "cell_type": "code",
   "execution_count": 31,
   "id": "c6d7c16c",
   "metadata": {
    "execution": {
     "iopub.execute_input": "2022-12-10T17:14:46.311883Z",
     "iopub.status.busy": "2022-12-10T17:14:46.311486Z",
     "iopub.status.idle": "2022-12-10T17:14:46.322738Z",
     "shell.execute_reply": "2022-12-10T17:14:46.321762Z"
    },
    "papermill": {
     "duration": 0.085257,
     "end_time": "2022-12-10T17:14:46.325307",
     "exception": false,
     "start_time": "2022-12-10T17:14:46.240050",
     "status": "completed"
    },
    "tags": []
   },
   "outputs": [
    {
     "data": {
      "text/plain": [
       "0    30.471836\n",
       "1    26.633949\n",
       "2    30.653095\n",
       "3    22.370447\n",
       "4    25.515615\n",
       "5    28.558250\n",
       "6    18.374111\n",
       "7    24.437731\n",
       "Name: Pawpularity, dtype: float32"
      ]
     },
     "execution_count": 31,
     "metadata": {},
     "output_type": "execute_result"
    }
   ],
   "source": [
    "submit['Pawpularity'] = predict\n",
    "submit['Pawpularity'] "
   ]
  },
  {
   "cell_type": "code",
   "execution_count": 32,
   "id": "5823d2a8",
   "metadata": {
    "execution": {
     "iopub.execute_input": "2022-12-10T17:14:46.471067Z",
     "iopub.status.busy": "2022-12-10T17:14:46.470713Z",
     "iopub.status.idle": "2022-12-10T17:14:46.478703Z",
     "shell.execute_reply": "2022-12-10T17:14:46.477843Z"
    },
    "papermill": {
     "duration": 0.084001,
     "end_time": "2022-12-10T17:14:46.481376",
     "exception": false,
     "start_time": "2022-12-10T17:14:46.397375",
     "status": "completed"
    },
    "tags": []
   },
   "outputs": [],
   "source": [
    "submit.to_csv('submission.csv',index=False)"
   ]
  },
  {
   "cell_type": "code",
   "execution_count": null,
   "id": "ba38856f",
   "metadata": {
    "papermill": {
     "duration": 0.07322,
     "end_time": "2022-12-10T17:14:46.628742",
     "exception": false,
     "start_time": "2022-12-10T17:14:46.555522",
     "status": "completed"
    },
    "tags": []
   },
   "outputs": [],
   "source": []
  }
 ],
 "metadata": {
  "kernelspec": {
   "display_name": "Python 3",
   "language": "python",
   "name": "python3"
  },
  "language_info": {
   "codemirror_mode": {
    "name": "ipython",
    "version": 3
   },
   "file_extension": ".py",
   "mimetype": "text/x-python",
   "name": "python",
   "nbconvert_exporter": "python",
   "pygments_lexer": "ipython3",
   "version": "3.7.12"
  },
  "papermill": {
   "default_parameters": {},
   "duration": 273.418054,
   "end_time": "2022-12-10T17:14:50.386982",
   "environment_variables": {},
   "exception": null,
   "input_path": "__notebook__.ipynb",
   "output_path": "__notebook__.ipynb",
   "parameters": {},
   "start_time": "2022-12-10T17:10:16.968928",
   "version": "2.3.4"
  }
 },
 "nbformat": 4,
 "nbformat_minor": 5
}
